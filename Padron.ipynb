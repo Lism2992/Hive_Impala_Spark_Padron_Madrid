{
 "cells": [
  {
   "cell_type": "code",
   "execution_count": 3,
   "metadata": {},
   "outputs": [],
   "source": [
    "import pyspark\n",
    "from pyspark.sql import SparkSession\n",
    "from pyspark.sql import functions as F\n",
    "from pyspark.sql import types as T"
   ]
  },
  {
   "cell_type": "code",
   "execution_count": 4,
   "metadata": {},
   "outputs": [],
   "source": [
    "spark = (SparkSession\n",
    "    .builder\n",
    "    .appName(\"Padron\")\n",
    "    .getOrCreate())"
   ]
  },
  {
   "cell_type": "code",
   "execution_count": 5,
   "metadata": {},
   "outputs": [],
   "source": [
    "padronDF = spark.read.format(\"csv\")\\\n",
    ".option(\"inferSchema\", True)\\\n",
    ".option(\"header\", True)\\\n",
    ".option(\"emptyValue\", \"0\")\\\n",
    ".option(\"quote\", \"\\\"\")\\\n",
    ".option(\"escape\", \"\\\"\")\\\n",
    ".option(\"ignoreLeadingWhiteSpace\", True)\\\n",
    ".option(\"ignoreTrailingWhiteSpace\", True)\\\n",
    ".option(\"sep\", \";\")\\\n",
    ".option(\"encoding\", \"ISO-8859-1\")\\\n",
    ".load(\"C:/Datasets/Padron.csv\")"
   ]
  },
  {
   "cell_type": "markdown",
   "metadata": {},
   "source": [
    "Los argumentos de importación que operan sobre los WhiteSpace no funcionan en este caso por que los campos están rodeados por comillas. Los dejamos para dar constancia de su existencia para cuando puedan ser de utilidad."
   ]
  },
  {
   "cell_type": "code",
   "execution_count": 38,
   "metadata": {},
   "outputs": [
    {
     "data": {
      "text/plain": [
       "[('COD_DISTRITO', 'int'),\n",
       " ('DESC_DISTRITO', 'string'),\n",
       " ('COD_DIST_BARRIO', 'int'),\n",
       " ('DESC_BARRIO', 'string'),\n",
       " ('COD_BARRIO', 'int'),\n",
       " ('COD_DIST_SECCION', 'int'),\n",
       " ('COD_SECCION', 'int'),\n",
       " ('COD_EDAD_INT', 'int'),\n",
       " ('EspanolesHombres', 'int'),\n",
       " ('EspanolesMujeres', 'int'),\n",
       " ('ExtranjerosHombres', 'int'),\n",
       " ('ExtranjerosMujeres', 'int')]"
      ]
     },
     "execution_count": 38,
     "metadata": {},
     "output_type": "execute_result"
    }
   ],
   "source": [
    "padronDF.dtypes"
   ]
  },
  {
   "cell_type": "markdown",
   "metadata": {},
   "source": [
    "Importa corectamente las Ñ"
   ]
  },
  {
   "cell_type": "code",
   "execution_count": 40,
   "metadata": {
    "scrolled": true
   },
   "outputs": [
    {
     "name": "stdout",
     "output_type": "stream",
     "text": [
      "+--------------------+\n",
      "|         DESC_BARRIO|\n",
      "+--------------------+\n",
      "|EMBAJADORES         |\n",
      "|SANTA EUGENIA       |\n",
      "|LEGAZPI             |\n",
      "|DELICIAS            |\n",
      "|CIUDAD UNIVERSITARIA|\n",
      "|CONCEPCION          |\n",
      "|VENTAS              |\n",
      "|IMPERIAL            |\n",
      "|SAN FERMIN          |\n",
      "|PEÑA GRANDE         |\n",
      "|ESTRELLA            |\n",
      "|TRAFALGAR           |\n",
      "|ALUCHE              |\n",
      "|PUERTA BONITA       |\n",
      "|ADELFAS             |\n",
      "|PUEBLO NUEVO        |\n",
      "|PALOMAS             |\n",
      "|CORRALEJOS          |\n",
      "|LOS CARMENES        |\n",
      "|VALDEZARZA          |\n",
      "|PUERTA DEL ANGEL    |\n",
      "|ORCASITAS           |\n",
      "|ZOFIO               |\n",
      "|SAN ISIDRO          |\n",
      "|LOS JERONIMOS       |\n",
      "|NIÑO JESUS          |\n",
      "|ARCOS               |\n",
      "|NUEVA ESPAÑA        |\n",
      "|QUINTANA            |\n",
      "|AEROPUERTO          |\n",
      "|FUENTELARREINA      |\n",
      "|VALLEHERMOSO        |\n",
      "|CANILLAS            |\n",
      "|PALACIO             |\n",
      "|ALMENDRALES         |\n",
      "|SAN CRISTOBAL       |\n",
      "|CORTES              |\n",
      "|CASTELLANA          |\n",
      "|EL SALVADOR         |\n",
      "|CHOPERA             |\n",
      "+--------------------+\n",
      "only showing top 40 rows\n",
      "\n"
     ]
    }
   ],
   "source": [
    "padronDF.select(F.col(\"DESC_BARRIO\")).distinct().show(40)"
   ]
  },
  {
   "cell_type": "markdown",
   "metadata": {},
   "source": [
    "Podemos guardarlo como parquet."
   ]
  },
  {
   "cell_type": "code",
   "execution_count": 41,
   "metadata": {},
   "outputs": [],
   "source": [
    "padronDF.write.parquet(\"C:/Users/luismiguel.dominguez/Desktop/Spark/Esritura/padron_parquet\")"
   ]
  },
  {
   "cell_type": "markdown",
   "metadata": {},
   "source": [
    "O pasarlo a una tabla temporal para tirar queries desde SQL."
   ]
  },
  {
   "cell_type": "code",
   "execution_count": 42,
   "metadata": {},
   "outputs": [],
   "source": [
    "padronDF.createOrReplaceTempView(\"padron\")"
   ]
  },
  {
   "cell_type": "code",
   "execution_count": 53,
   "metadata": {},
   "outputs": [],
   "source": [
    "vista = spark.sql(\"SELECT distinct(DESC_BARRIO, DESC_DISTRITO) from padron\")"
   ]
  },
  {
   "cell_type": "code",
   "execution_count": 56,
   "metadata": {},
   "outputs": [
    {
     "data": {
      "text/plain": [
       "133"
      ]
     },
     "execution_count": 56,
     "metadata": {},
     "output_type": "execute_result"
    }
   ],
   "source": [
    "vista.count()"
   ]
  },
  {
   "cell_type": "code",
   "execution_count": 63,
   "metadata": {},
   "outputs": [
    {
     "data": {
      "text/plain": [
       "21"
      ]
     },
     "execution_count": 63,
     "metadata": {},
     "output_type": "execute_result"
    }
   ],
   "source": [
    "padronDF.select(\"DESC_DISTRITO\").distinct().count()"
   ]
  },
  {
   "cell_type": "code",
   "execution_count": 64,
   "metadata": {},
   "outputs": [
    {
     "data": {
      "text/plain": [
       "132"
      ]
     },
     "execution_count": 64,
     "metadata": {},
     "output_type": "execute_result"
    }
   ],
   "source": [
    "padronDF.select(\"DESC_BARRIO\").distinct().count()"
   ]
  },
  {
   "cell_type": "markdown",
   "metadata": {},
   "source": [
    "Si lo comprobamos, el argumento de la importación del CSV para quitar espacios a la derecha no ha funcionado."
   ]
  },
  {
   "cell_type": "code",
   "execution_count": 6,
   "metadata": {},
   "outputs": [
    {
     "name": "stdout",
     "output_type": "stream",
     "text": [
      "+--------------------+---------------------+\n",
      "|       DESC_DISTRITO|length(DESC_DISTRITO)|\n",
      "+--------------------+---------------------+\n",
      "|CENTRO              |                   20|\n",
      "|CENTRO              |                   20|\n",
      "|CENTRO              |                   20|\n",
      "|CENTRO              |                   20|\n",
      "|CENTRO              |                   20|\n",
      "|CENTRO              |                   20|\n",
      "|CENTRO              |                   20|\n",
      "|CENTRO              |                   20|\n",
      "|CENTRO              |                   20|\n",
      "|CENTRO              |                   20|\n",
      "|CENTRO              |                   20|\n",
      "|CENTRO              |                   20|\n",
      "|CENTRO              |                   20|\n",
      "|CENTRO              |                   20|\n",
      "|CENTRO              |                   20|\n",
      "|CENTRO              |                   20|\n",
      "|CENTRO              |                   20|\n",
      "|CENTRO              |                   20|\n",
      "|CENTRO              |                   20|\n",
      "|CENTRO              |                   20|\n",
      "+--------------------+---------------------+\n",
      "only showing top 20 rows\n",
      "\n"
     ]
    }
   ],
   "source": [
    "padronDF.select(\"DESC_DISTRITO\", F.length(\"DESC_DISTRITO\")).show()"
   ]
  },
  {
   "cell_type": "markdown",
   "metadata": {},
   "source": [
    "Los quitamos nosotros mismos con un rtrim."
   ]
  },
  {
   "cell_type": "code",
   "execution_count": 7,
   "metadata": {},
   "outputs": [],
   "source": [
    "padronDF_bueno = padronDF.withColumn(\"DESC_DISTRITO\", F.rtrim(\"DESC_DISTRITO\")).withColumn(\"DESC_BARRIO\", F.rtrim(\"DESC_BARRIO\"))"
   ]
  },
  {
   "cell_type": "markdown",
   "metadata": {},
   "source": [
    "## Vamos a probar a particionar y esas cositas."
   ]
  },
  {
   "cell_type": "markdown",
   "metadata": {},
   "source": [
    "Podemos crear el dataframe particionado."
   ]
  },
  {
   "cell_type": "code",
   "execution_count": 8,
   "metadata": {},
   "outputs": [],
   "source": [
    "rep = padronDF_bueno.repartition(F.col(\"DESC_DISTRITO\"), F.col(\"DESC_BARRIO\"))\n",
    "rep.createOrReplaceTempView(\"padron_part\")\n"
   ]
  },
  {
   "cell_type": "code",
   "execution_count": 100,
   "metadata": {},
   "outputs": [
    {
     "name": "stdout",
     "output_type": "stream",
     "text": [
      "200\n"
     ]
    }
   ],
   "source": [
    "print(rep.rdd.getNumPartitions())"
   ]
  },
  {
   "cell_type": "markdown",
   "metadata": {},
   "source": [
    "O guardarlo particionado en alguna dirección concreta del sistema."
   ]
  },
  {
   "cell_type": "code",
   "execution_count": 65,
   "metadata": {},
   "outputs": [],
   "source": [
    "padronDF.write.partitionBy(\"DESC_DISTRITO\", \"DESC_BARRIO\").csv(\"C:/Users/luismiguel.dominguez/Desktop/Spark/Esritura/padron_particionado\", header=True)"
   ]
  },
  {
   "cell_type": "markdown",
   "metadata": {},
   "source": [
    "Lanzamos la query contra el DF particionado para comprobar que podemos hacer retrieve de los datos desde él."
   ]
  },
  {
   "cell_type": "code",
   "execution_count": 99,
   "metadata": {
    "scrolled": true
   },
   "outputs": [
    {
     "name": "stdout",
     "output_type": "stream",
     "text": [
      "+-------------+--------------------+---------------------+---------------------+-----------------------+-----------------------+\n",
      "|DESC_DISTRITO|         DESC_BARRIO|sum(espanoleshombres)|sum(espanolesmujeres)|sum(extranjeroshombres)|sum(extranjerosmujeres)|\n",
      "+-------------+--------------------+---------------------+---------------------+-----------------------+-----------------------+\n",
      "|       TETUAN|       BELLAS VISTAS|                10268|                12092|                   3240|                   4011|\n",
      "|       CENTRO|            JUSTICIA|                 7099|                 6841|                   2228|                   2103|\n",
      "|       CENTRO|         UNIVERSIDAD|                12679|                12755|                   4083|                   4078|\n",
      "|       TETUAN|BARRIOS EN EDIF. BDC|                    0|                    1|                      0|                      0|\n",
      "|       TETUAN|          BERRUGUETE|                 8775|                10529|                   2783|                   3713|\n",
      "|    VICALVARO|   CASCO H.VICALVARO|                13438|                14623|                   3793|                   3870|\n",
      "|    CHAMARTIN|            CASTILLA|                 7209|                 8231|                    719|                    992|\n",
      "|    CHAMARTIN|      HISPANOAMERICA|                13246|                15950|                   1036|                   1545|\n",
      "|       CENTRO|         EMBAJADORES|                16694|                16809|                   8230|                   5787|\n",
      "|      BARAJAS|          CORRALEJOS|                 3576|                 3628|                    223|                    291|\n",
      "|       LATINA|         LAS AGUILAS|                20987|                24203|                   3087|                   3684|\n",
      "|      BARAJAS|               TIMON|                 5733|                 6159|                    658|                    809|\n",
      "|    CHAMARTIN|         PROSPERIDAD|                14638|                17963|                   1729|                   2310|\n",
      "|       CENTRO|             PALACIO|                 9380|                 9715|                   2341|                   2306|\n",
      "|       LATINA|              LUCERO|                13885|                15879|                   3268|                   3732|\n",
      "|       CENTRO|              CORTES|                 4037|                 3975|                   1354|                   1441|\n",
      "|    VICALVARO|       VALDEBERNARDO|                 7766|                 8557|                    635|                    687|\n",
      "|    CHAMARTIN|             EL VISO|                 7081|                 8315|                    779|                   1291|\n",
      "|       TETUAN|            ALMENARA|                 8880|                10241|                   1667|                   2122|\n",
      "|       CENTRO|                 SOL|                 2843|                 2604|                   1271|                   1290|\n",
      "+-------------+--------------------+---------------------+---------------------+-----------------------+-----------------------+\n",
      "only showing top 20 rows\n",
      "\n"
     ]
    }
   ],
   "source": [
    "rep.select(\"DESC_DISTRITO\", \"DESC_BARRIO\", \"espanoleshombres\", \"espanolesmujeres\", \"extranjeroshombres\", \"extranjerosmujeres\").where(F.col(\"DESC_DISTRITO\").isin (\"CENTRO\", \"LATINA\", \"CHAMARTIN\", \"TETUAN\", \"VICALVARO\", \"BARAJAS\")\n",
    ").groupBy(F.col(\"DESC_DISTRITO\"), F.col(\"DESC_BARRIO\")).agg(F.sum(F.col(\"espanoleshombres\")), F.sum(F.col(\"espanolesmujeres\")), F.sum(F.col(\"extranjeroshombres\")), F.sum(F.col(\"extranjerosmujeres\"))).show()"
   ]
  },
  {
   "cell_type": "markdown",
   "metadata": {},
   "source": [
    "No está de más comprobar que el número de resultados para la misma query en el archivo particionado o sin particionar es del mismo tamaño."
   ]
  },
  {
   "cell_type": "code",
   "execution_count": 111,
   "metadata": {},
   "outputs": [
    {
     "data": {
      "text/plain": [
       "36"
      ]
     },
     "execution_count": 111,
     "metadata": {},
     "output_type": "execute_result"
    }
   ],
   "source": [
    "rep.select(\"DESC_DISTRITO\", \"DESC_BARRIO\", \"espanoleshombres\", \"espanolesmujeres\", \"extranjeroshombres\", \"extranjerosmujeres\").where(F.col(\"DESC_DISTRITO\").isin (\"CENTRO\", \"LATINA\", \"CHAMARTIN\", \"TETUAN\", \"VICALVARO\", \"BARAJAS\")\n",
    ").groupBy(F.col(\"DESC_DISTRITO\"), F.col(\"DESC_BARRIO\")).agg(F.sum(F.col(\"espanoleshombres\")), F.sum(F.col(\"espanolesmujeres\")), F.sum(F.col(\"extranjeroshombres\")), F.sum(F.col(\"extranjerosmujeres\"))).count()"
   ]
  },
  {
   "cell_type": "code",
   "execution_count": 113,
   "metadata": {},
   "outputs": [
    {
     "data": {
      "text/plain": [
       "36"
      ]
     },
     "execution_count": 113,
     "metadata": {},
     "output_type": "execute_result"
    }
   ],
   "source": [
    "padronDF_bueno.select(\"DESC_DISTRITO\", \"DESC_BARRIO\", \"espanoleshombres\", \"espanolesmujeres\", \"extranjeroshombres\", \"extranjerosmujeres\").where(F.col(\"DESC_DISTRITO\").isin (\"CENTRO\", \"LATINA\", \"CHAMARTIN\", \"TETUAN\", \"VICALVARO\", \"BARAJAS\")\n",
    ").groupBy(F.col(\"DESC_DISTRITO\"), F.col(\"DESC_BARRIO\")).agg(F.sum(F.col(\"espanoleshombres\")), F.sum(F.col(\"espanolesmujeres\")), F.sum(F.col(\"extranjeroshombres\")), F.sum(F.col(\"extranjerosmujeres\"))).count()"
   ]
  },
  {
   "cell_type": "markdown",
   "metadata": {},
   "source": [
    "Como ahora vamos a hacer pruebas de velocidad al consutar vamos a guardar los dos dataframes en caché. Hacemos el cout para invocar una accion posterior y así generar el caché."
   ]
  },
  {
   "cell_type": "code",
   "execution_count": 9,
   "metadata": {},
   "outputs": [
    {
     "data": {
      "text/plain": [
       "237675"
      ]
     },
     "execution_count": 9,
     "metadata": {},
     "output_type": "execute_result"
    }
   ],
   "source": [
    "rep.cache().count()"
   ]
  },
  {
   "cell_type": "code",
   "execution_count": 10,
   "metadata": {},
   "outputs": [
    {
     "data": {
      "text/plain": [
       "237675"
      ]
     },
     "execution_count": 10,
     "metadata": {},
     "output_type": "execute_result"
    }
   ],
   "source": [
    "padronDF_bueno.cache().count()"
   ]
  },
  {
   "cell_type": "code",
   "execution_count": 11,
   "metadata": {},
   "outputs": [
    {
     "name": "stdout",
     "output_type": "stream",
     "text": [
      "+-------------+--------------------+---------------------+---------------------+-----------------------+-----------------------+\n",
      "|DESC_DISTRITO|         DESC_BARRIO|sum(espanoleshombres)|sum(espanolesmujeres)|sum(extranjeroshombres)|sum(extranjerosmujeres)|\n",
      "+-------------+--------------------+---------------------+---------------------+-----------------------+-----------------------+\n",
      "|       TETUAN|       BELLAS VISTAS|                10268|                12092|                   3240|                   4011|\n",
      "|       CENTRO|            JUSTICIA|                 7099|                 6841|                   2228|                   2103|\n",
      "|       CENTRO|         UNIVERSIDAD|                12679|                12755|                   4083|                   4078|\n",
      "|       TETUAN|BARRIOS EN EDIF. BDC|                    0|                    1|                      0|                      0|\n",
      "|       TETUAN|          BERRUGUETE|                 8775|                10529|                   2783|                   3713|\n",
      "|    VICALVARO|   CASCO H.VICALVARO|                13438|                14623|                   3793|                   3870|\n",
      "|    CHAMARTIN|            CASTILLA|                 7209|                 8231|                    719|                    992|\n",
      "|    CHAMARTIN|      HISPANOAMERICA|                13246|                15950|                   1036|                   1545|\n",
      "|       CENTRO|         EMBAJADORES|                16694|                16809|                   8230|                   5787|\n",
      "|      BARAJAS|          CORRALEJOS|                 3576|                 3628|                    223|                    291|\n",
      "|       LATINA|         LAS AGUILAS|                20987|                24203|                   3087|                   3684|\n",
      "|      BARAJAS|               TIMON|                 5733|                 6159|                    658|                    809|\n",
      "|    CHAMARTIN|         PROSPERIDAD|                14638|                17963|                   1729|                   2310|\n",
      "|       CENTRO|             PALACIO|                 9380|                 9715|                   2341|                   2306|\n",
      "|       LATINA|              LUCERO|                13885|                15879|                   3268|                   3732|\n",
      "|       CENTRO|              CORTES|                 4037|                 3975|                   1354|                   1441|\n",
      "|    VICALVARO|       VALDEBERNARDO|                 7766|                 8557|                    635|                    687|\n",
      "|    CHAMARTIN|             EL VISO|                 7081|                 8315|                    779|                   1291|\n",
      "|       TETUAN|            ALMENARA|                 8880|                10241|                   1667|                   2122|\n",
      "|       CENTRO|                 SOL|                 2843|                 2604|                   1271|                   1290|\n",
      "+-------------+--------------------+---------------------+---------------------+-----------------------+-----------------------+\n",
      "only showing top 20 rows\n",
      "\n"
     ]
    }
   ],
   "source": [
    "rep.select(\"DESC_DISTRITO\", \"DESC_BARRIO\", \"espanoleshombres\", \"espanolesmujeres\", \"extranjeroshombres\", \"extranjerosmujeres\").where(F.col(\"DESC_DISTRITO\").isin (\"CENTRO\", \"LATINA\", \"CHAMARTIN\", \"TETUAN\", \"VICALVARO\", \"BARAJAS\")\n",
    ").groupBy(F.col(\"DESC_DISTRITO\"), F.col(\"DESC_BARRIO\")).agg(F.sum(F.col(\"espanoleshombres\")), F.sum(F.col(\"espanolesmujeres\")), F.sum(F.col(\"extranjeroshombres\")), F.sum(F.col(\"extranjerosmujeres\"))).show()"
   ]
  },
  {
   "cell_type": "code",
   "execution_count": 12,
   "metadata": {
    "scrolled": true
   },
   "outputs": [
    {
     "name": "stdout",
     "output_type": "stream",
     "text": [
      "+-------------+--------------------+---------------------+---------------------+-----------------------+-----------------------+\n",
      "|DESC_DISTRITO|         DESC_BARRIO|sum(espanoleshombres)|sum(espanolesmujeres)|sum(extranjeroshombres)|sum(extranjerosmujeres)|\n",
      "+-------------+--------------------+---------------------+---------------------+-----------------------+-----------------------+\n",
      "|       TETUAN|       BELLAS VISTAS|                10268|                12092|                   3240|                   4011|\n",
      "|       CENTRO|            JUSTICIA|                 7099|                 6841|                   2228|                   2103|\n",
      "|       CENTRO|         UNIVERSIDAD|                12679|                12755|                   4083|                   4078|\n",
      "|       TETUAN|BARRIOS EN EDIF. BDC|                    0|                    1|                      0|                      0|\n",
      "|       TETUAN|          BERRUGUETE|                 8775|                10529|                   2783|                   3713|\n",
      "|    VICALVARO|   CASCO H.VICALVARO|                13438|                14623|                   3793|                   3870|\n",
      "|    CHAMARTIN|            CASTILLA|                 7209|                 8231|                    719|                    992|\n",
      "|    CHAMARTIN|      HISPANOAMERICA|                13246|                15950|                   1036|                   1545|\n",
      "|       CENTRO|         EMBAJADORES|                16694|                16809|                   8230|                   5787|\n",
      "|      BARAJAS|          CORRALEJOS|                 3576|                 3628|                    223|                    291|\n",
      "|       LATINA|         LAS AGUILAS|                20987|                24203|                   3087|                   3684|\n",
      "|      BARAJAS|               TIMON|                 5733|                 6159|                    658|                    809|\n",
      "|    CHAMARTIN|         PROSPERIDAD|                14638|                17963|                   1729|                   2310|\n",
      "|       CENTRO|             PALACIO|                 9380|                 9715|                   2341|                   2306|\n",
      "|       LATINA|              LUCERO|                13885|                15879|                   3268|                   3732|\n",
      "|       CENTRO|              CORTES|                 4037|                 3975|                   1354|                   1441|\n",
      "|    VICALVARO|       VALDEBERNARDO|                 7766|                 8557|                    635|                    687|\n",
      "|    CHAMARTIN|             EL VISO|                 7081|                 8315|                    779|                   1291|\n",
      "|       TETUAN|            ALMENARA|                 8880|                10241|                   1667|                   2122|\n",
      "|       CENTRO|                 SOL|                 2843|                 2604|                   1271|                   1290|\n",
      "+-------------+--------------------+---------------------+---------------------+-----------------------+-----------------------+\n",
      "only showing top 20 rows\n",
      "\n"
     ]
    }
   ],
   "source": [
    "padronDF_bueno.select(\"DESC_DISTRITO\", \"DESC_BARRIO\", \"espanoleshombres\", \"espanolesmujeres\", \"extranjeroshombres\", \"extranjerosmujeres\").where(F.col(\"DESC_DISTRITO\").isin (\"CENTRO\", \"LATINA\", \"CHAMARTIN\", \"TETUAN\", \"VICALVARO\", \"BARAJAS\")\n",
    ").groupBy(F.col(\"DESC_DISTRITO\"), F.col(\"DESC_BARRIO\")).agg(F.sum(F.col(\"espanoleshombres\")), F.sum(F.col(\"espanolesmujeres\")), F.sum(F.col(\"extranjeroshombres\")), F.sum(F.col(\"extranjerosmujeres\"))).show()"
   ]
  },
  {
   "cell_type": "markdown",
   "metadata": {},
   "source": [
    "No hay gran ganancia a la hora de ejecutar dsede particionado o no. Los tiempos se pueden ver en la UI de Spark."
   ]
  }
 ],
 "metadata": {
  "kernelspec": {
   "display_name": "Python 3",
   "language": "python",
   "name": "python3"
  },
  "language_info": {
   "codemirror_mode": {
    "name": "ipython",
    "version": 3
   },
   "file_extension": ".py",
   "mimetype": "text/x-python",
   "name": "python",
   "nbconvert_exporter": "python",
   "pygments_lexer": "ipython3",
   "version": "3.8.5"
  }
 },
 "nbformat": 4,
 "nbformat_minor": 4
}
